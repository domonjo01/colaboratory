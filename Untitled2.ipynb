{
  "nbformat": 4,
  "nbformat_minor": 0,
  "metadata": {
    "colab": {
      "provenance": [],
      "authorship_tag": "ABX9TyP0lZkffLU155U+8wGjwKup",
      "include_colab_link": true
    },
    "kernelspec": {
      "name": "python3",
      "display_name": "Python 3"
    },
    "language_info": {
      "name": "python"
    }
  },
  "cells": [
    {
      "cell_type": "markdown",
      "metadata": {
        "id": "view-in-github",
        "colab_type": "text"
      },
      "source": [
        "<a href=\"https://colab.research.google.com/github/domonjo01/colaboratory/blob/master/Untitled2.ipynb\" target=\"_parent\"><img src=\"https://colab.research.google.com/assets/colab-badge.svg\" alt=\"Open In Colab\"/></a>"
      ]
    },
    {
      "cell_type": "code",
      "execution_count": null,
      "metadata": {
        "colab": {
          "base_uri": "https://localhost:8080/"
        },
        "id": "ORzM2seCkwMY",
        "outputId": "5b8608a7-2116-4067-c5a7-a1a8547d0f28"
      },
      "outputs": [
        {
          "output_type": "stream",
          "name": "stdout",
          "text": [
            "   名前  年齢     職業\n",
            "0  太郎  25  エンジニア\n",
            "1  花子  30  デザイナー\n",
            "2  次郎  22  マーケター\n"
          ]
        }
      ],
      "source": [
        "import pandas as pd\n",
        "\n",
        "data = {\n",
        "    \"名前\": [\"太郎\", \"花子\", \"次郎\"],\n",
        "    \"年齢\": [25, 30, 22],\n",
        "    \"職業\": [\"エンジニア\", \"デザイナー\", \"マーケター\"]\n",
        "}\n",
        "\n",
        "df = pd.DataFrame(data)\n",
        "print(df)"
      ]
    },
    {
      "cell_type": "code",
      "source": [
        "import pandas as pd\n",
        "\n",
        "data = {\n",
        "    \"氏名\": [\"マナブ\", \"たかし\", \"まさし\"],\n",
        "    \"年齢\": [40, 38, 27],\n",
        "    \"職業\": [\"監査人\", \"医療事務\", \"テスター\"]\n",
        "}\n",
        "\n",
        "df = pd.DataFrame(data)\n",
        "print(df)"
      ],
      "metadata": {
        "colab": {
          "base_uri": "https://localhost:8080/"
        },
        "id": "F8UUEHTRk2XB",
        "outputId": "7b4fd05f-4b75-47a0-b191-37236f3d015b"
      },
      "execution_count": null,
      "outputs": [
        {
          "output_type": "stream",
          "name": "stdout",
          "text": [
            "    氏名  年齢    職業\n",
            "0  マナブ  40   監査人\n",
            "1  たかし  38  医療事務\n",
            "2  まさし  27  テスター\n"
          ]
        }
      ]
    }
  ]
}