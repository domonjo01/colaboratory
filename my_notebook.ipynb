{
  "nbformat": 4,
  "nbformat_minor": 0,
  "metadata": {
    "colab": {
      "provenance": [],
      "gpuType": "T4",
      "authorship_tag": "ABX9TyNEAfSfoJrn1u6Ce+v5GlE0",
      "include_colab_link": true
    },
    "kernelspec": {
      "name": "python3",
      "display_name": "Python 3"
    },
    "language_info": {
      "name": "python"
    },
    "accelerator": "GPU"
  },
  "cells": [
    {
      "cell_type": "markdown",
      "metadata": {
        "id": "view-in-github",
        "colab_type": "text"
      },
      "source": [
        "<a href=\"https://colab.research.google.com/github/domonjo01/colaboratory/blob/master/my_notebook.ipynb\" target=\"_parent\"><img src=\"https://colab.research.google.com/assets/colab-badge.svg\" alt=\"Open In Colab\"/></a>"
      ]
    },
    {
      "cell_type": "code",
      "source": [],
      "metadata": {
        "id": "mWQNlVb6CrzO"
      },
      "execution_count": null,
      "outputs": []
    },
    {
      "cell_type": "markdown",
      "source": [],
      "metadata": {
        "id": "nJhjqHu0Q3l1"
      }
    },
    {
      "cell_type": "code",
      "source": [
        "a = 3\n",
        "b = 2\n",
        "print ( a + b )"
      ],
      "metadata": {
        "colab": {
          "base_uri": "https://localhost:8080/"
        },
        "id": "zdIaA6lsRx3V",
        "outputId": "7c312244-dd26-4661-f6c7-4e83500b2fa2"
      },
      "execution_count": null,
      "outputs": [
        {
          "output_type": "stream",
          "name": "stdout",
          "text": [
            "5\n"
          ]
        }
      ]
    },
    {
      "cell_type": "code",
      "source": [
        "a = True; b = False\n",
        "print(a+b)"
      ],
      "metadata": {
        "colab": {
          "base_uri": "https://localhost:8080/"
        },
        "id": "6rDk4W-ZU_k4",
        "outputId": "915656c4-fabc-4b8f-a3b9-17026c68ce1a"
      },
      "execution_count": null,
      "outputs": [
        {
          "output_type": "stream",
          "name": "stdout",
          "text": [
            "1\n"
          ]
        }
      ]
    },
    {
      "cell_type": "code",
      "source": [
        "a = 3; b = 5\n",
        "\n",
        "c = a + b ; print(c)\n",
        "\n",
        "d = a < b; print(d)\n",
        "\n",
        "e = 3 < 4 and 4 < 5; print(e)"
      ],
      "metadata": {
        "colab": {
          "base_uri": "https://localhost:8080/"
        },
        "id": "WXTsabyTV8q3",
        "outputId": "f9cc0ef7-f73c-4413-b18c-51bc6b0f618d"
      },
      "execution_count": null,
      "outputs": [
        {
          "output_type": "stream",
          "name": "stdout",
          "text": [
            "8\n",
            "True\n",
            "True\n"
          ]
        }
      ]
    },
    {
      "cell_type": "code",
      "source": [
        "a = [1, 2, 3, 4, 5]\n",
        "\n",
        "b = a[3] ; print(b)\n",
        "\n",
        "a.append(6) ; print(a)\n",
        "\n",
        "a[2] = 99 ; print(a)"
      ],
      "metadata": {
        "colab": {
          "base_uri": "https://localhost:8080/"
        },
        "id": "UylR10gWWgBL",
        "outputId": "71b140ea-72f5-4daa-8e1a-fa487eeec0ae"
      },
      "execution_count": null,
      "outputs": [
        {
          "output_type": "stream",
          "name": "stdout",
          "text": [
            "4\n",
            "[1, 2, 3, 4, 5, 6]\n",
            "[1, 2, 99, 4, 5, 6]\n"
          ]
        }
      ]
    },
    {
      "cell_type": "code",
      "source": [
        "a = (1, 2, 3, 4, 5)\n",
        "\n",
        "b = a[2]\n",
        "print(b)"
      ],
      "metadata": {
        "colab": {
          "base_uri": "https://localhost:8080/"
        },
        "id": "2l1ISXkmXE38",
        "outputId": "2e40692c-b3e0-434f-814d-cf72ed202f3f"
      },
      "execution_count": null,
      "outputs": [
        {
          "output_type": "stream",
          "name": "stdout",
          "text": [
            "3\n"
          ]
        }
      ]
    },
    {
      "cell_type": "code",
      "source": [
        "(2,)"
      ],
      "metadata": {
        "colab": {
          "base_uri": "https://localhost:8080/"
        },
        "id": "1rNBZHW1XLhH",
        "outputId": "ecff3be8-33e5-4eeb-c9a5-d6347cf70a22"
      },
      "execution_count": null,
      "outputs": [
        {
          "output_type": "execute_result",
          "data": {
            "text/plain": [
              "(2,)"
            ]
          },
          "metadata": {},
          "execution_count": 12
        }
      ]
    },
    {
      "cell_type": "code",
      "source": [
        "a = [1, 2, 3]\n",
        "a1, a2, a3 = a ; print(a1, a2, a3)\n",
        "\n",
        "b = (4, 5, 6) # タプル\n",
        "b1, b2, b3 = b ; print(b1, b2, b3)"
      ],
      "metadata": {
        "colab": {
          "base_uri": "https://localhost:8080/"
        },
        "id": "BNFeh_17Xtxg",
        "outputId": "6bd66e4e-d905-4de2-a3c3-095089ada287"
      },
      "execution_count": null,
      "outputs": [
        {
          "output_type": "stream",
          "name": "stdout",
          "text": [
            "1 2 3\n",
            "4 5 6\n"
          ]
        }
      ]
    },
    {
      "cell_type": "code",
      "source": [
        "a = {\"Artificial\":1, \"Intelligence\":2} # 辞書の作成\n",
        "print(a[\"Artificial\"]) # \"Artificial\"のキーを持つ値を取得\n",
        "\n",
        "a[\"Intelligence\"] = 7\n",
        "print(a)\n",
        "\n",
        "a[\"ML\"] = 3 ; print(a)"
      ],
      "metadata": {
        "colab": {
          "base_uri": "https://localhost:8080/"
        },
        "id": "oE4KScK6X9do",
        "outputId": "9cb5a39a-1f6a-4298-a373-115b01926f3e"
      },
      "execution_count": null,
      "outputs": [
        {
          "output_type": "stream",
          "name": "stdout",
          "text": [
            "1\n",
            "{'Artificial': 1, 'Intelligence': 7}\n",
            "{'Artificial': 1, 'Intelligence': 7, 'ML': 3}\n"
          ]
        }
      ]
    },
    {
      "cell_type": "code",
      "source": [
        "a = [1, 1, 2, 3, 4, 4, 5, 5, 5]\n",
        "print(a)\n",
        "\n",
        "b = set(a)\n",
        "print(b)\n",
        "\n",
        "b.add(6) ; print(b)\n",
        "\n",
        "b.remove(3) ; print(b)"
      ],
      "metadata": {
        "id": "fxKjWY3qZW3s",
        "colab": {
          "base_uri": "https://localhost:8080/"
        },
        "outputId": "10015879-c9aa-4238-e8c7-0ef0e4597f19"
      },
      "execution_count": 17,
      "outputs": [
        {
          "output_type": "stream",
          "name": "stdout",
          "text": [
            "[1, 1, 2, 3, 4, 4, 5, 5, 5]\n",
            "{1, 2, 3, 4, 5}\n",
            "{1, 2, 3, 4, 5, 6}\n",
            "{1, 2, 4, 5, 6}\n"
          ]
        }
      ]
    },
    {
      "cell_type": "code",
      "source": [
        "a = 3 ; b = 2 ; print ( a + b )"
      ],
      "metadata": {
        "id": "Lt-Xpro5aI1D",
        "colab": {
          "base_uri": "https://localhost:8080/"
        },
        "outputId": "5c447595-77de-4f16-b29b-7be3d99f3942"
      },
      "execution_count": 15,
      "outputs": [
        {
          "output_type": "stream",
          "name": "stdout",
          "text": [
            "5\n"
          ]
        }
      ]
    },
    {
      "cell_type": "code",
      "source": [
        "a = 13\n",
        "if a < 12:\n",
        "  print(\"Good morning!\")\n",
        "elif a < 17:\n",
        "  print(\"Good afternoon!\")\n",
        "elif a < 21:\n",
        "  print(\"Good evening!\")\n",
        "else:\n",
        "  print(\"Good night!\")"
      ],
      "metadata": {
        "colab": {
          "base_uri": "https://localhost:8080/"
        },
        "id": "KpydOfSxbUH6",
        "outputId": "23805e7b-b887-4d44-fbf2-91716008b9e3"
      },
      "execution_count": 18,
      "outputs": [
        {
          "output_type": "stream",
          "name": "stdout",
          "text": [
            "Good afternoon!\n"
          ]
        }
      ]
    },
    {
      "cell_type": "code",
      "source": [
        "for a in [3, 5, 9, 17]:\n",
        "  print(a)\n",
        "\n",
        "for a in range(5):\n",
        "  print(a)"
      ],
      "metadata": {
        "colab": {
          "base_uri": "https://localhost:8080/"
        },
        "id": "gLECfDERb_pS",
        "outputId": "9aec8aa8-ce8f-4dbe-89ef-bfa6319362e9"
      },
      "execution_count": 20,
      "outputs": [
        {
          "output_type": "stream",
          "name": "stdout",
          "text": [
            "3\n",
            "5\n",
            "9\n",
            "17\n",
            "0\n",
            "1\n",
            "2\n",
            "3\n",
            "4\n"
          ]
        }
      ]
    },
    {
      "cell_type": "code",
      "source": [
        "a = 0\n",
        "while a < 3:\n",
        "  print(a)\n",
        "  a += 1"
      ],
      "metadata": {
        "colab": {
          "base_uri": "https://localhost:8080/"
        },
        "id": "_6jOGeuZcfl9",
        "outputId": "e5157e57-986b-48d7-906d-41a10f8c65f5"
      },
      "execution_count": 22,
      "outputs": [
        {
          "output_type": "stream",
          "name": "stdout",
          "text": [
            "0\n",
            "1\n",
            "2\n"
          ]
        }
      ]
    }
  ]
}