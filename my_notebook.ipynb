{
  "nbformat": 4,
  "nbformat_minor": 0,
  "metadata": {
    "colab": {
      "provenance": [],
      "gpuType": "T4",
      "authorship_tag": "ABX9TyM2kaIsSR+7so6WckPnzoIE",
      "include_colab_link": true
    },
    "kernelspec": {
      "name": "python3",
      "display_name": "Python 3"
    },
    "language_info": {
      "name": "python"
    },
    "accelerator": "GPU"
  },
  "cells": [
    {
      "cell_type": "markdown",
      "metadata": {
        "id": "view-in-github",
        "colab_type": "text"
      },
      "source": [
        "<a href=\"https://colab.research.google.com/github/domonjo01/colaboratory/blob/master/my_notebook.ipynb\" target=\"_parent\"><img src=\"https://colab.research.google.com/assets/colab-badge.svg\" alt=\"Open In Colab\"/></a>"
      ]
    },
    {
      "cell_type": "code",
      "source": [],
      "metadata": {
        "id": "mWQNlVb6CrzO"
      },
      "execution_count": null,
      "outputs": []
    },
    {
      "cell_type": "markdown",
      "source": [],
      "metadata": {
        "id": "nJhjqHu0Q3l1"
      }
    },
    {
      "cell_type": "code",
      "source": [
        "a = 3\n",
        "b = 2\n",
        "print ( a + b )"
      ],
      "metadata": {
        "colab": {
          "base_uri": "https://localhost:8080/"
        },
        "id": "zdIaA6lsRx3V",
        "outputId": "7c312244-dd26-4661-f6c7-4e83500b2fa2"
      },
      "execution_count": null,
      "outputs": [
        {
          "output_type": "stream",
          "name": "stdout",
          "text": [
            "5\n"
          ]
        }
      ]
    },
    {
      "cell_type": "code",
      "source": [
        "a = True; b = False\n",
        "print(a+b)"
      ],
      "metadata": {
        "colab": {
          "base_uri": "https://localhost:8080/"
        },
        "id": "6rDk4W-ZU_k4",
        "outputId": "915656c4-fabc-4b8f-a3b9-17026c68ce1a"
      },
      "execution_count": null,
      "outputs": [
        {
          "output_type": "stream",
          "name": "stdout",
          "text": [
            "1\n"
          ]
        }
      ]
    },
    {
      "cell_type": "code",
      "source": [
        "a = 3; b = 5\n",
        "\n",
        "c = a + b ; print(c)\n",
        "\n",
        "d = a < b; print(d)\n",
        "\n",
        "e = 3 < 4 and 4 < 5; print(e)"
      ],
      "metadata": {
        "colab": {
          "base_uri": "https://localhost:8080/"
        },
        "id": "WXTsabyTV8q3",
        "outputId": "f9cc0ef7-f73c-4413-b18c-51bc6b0f618d"
      },
      "execution_count": null,
      "outputs": [
        {
          "output_type": "stream",
          "name": "stdout",
          "text": [
            "8\n",
            "True\n",
            "True\n"
          ]
        }
      ]
    },
    {
      "cell_type": "code",
      "source": [
        "a = [1, 2, 3, 4, 5]\n",
        "\n",
        "b = a[3] ; print(b)\n",
        "\n",
        "a.append(6) ; print(a)\n",
        "\n",
        "a[2] = 99 ; print(a)"
      ],
      "metadata": {
        "colab": {
          "base_uri": "https://localhost:8080/"
        },
        "id": "UylR10gWWgBL",
        "outputId": "71b140ea-72f5-4daa-8e1a-fa487eeec0ae"
      },
      "execution_count": null,
      "outputs": [
        {
          "output_type": "stream",
          "name": "stdout",
          "text": [
            "4\n",
            "[1, 2, 3, 4, 5, 6]\n",
            "[1, 2, 99, 4, 5, 6]\n"
          ]
        }
      ]
    },
    {
      "cell_type": "code",
      "source": [
        "a = (1, 2, 3, 4, 5)\n",
        "\n",
        "b = a[2]\n",
        "print(b)"
      ],
      "metadata": {
        "colab": {
          "base_uri": "https://localhost:8080/"
        },
        "id": "2l1ISXkmXE38",
        "outputId": "2e40692c-b3e0-434f-814d-cf72ed202f3f"
      },
      "execution_count": null,
      "outputs": [
        {
          "output_type": "stream",
          "name": "stdout",
          "text": [
            "3\n"
          ]
        }
      ]
    },
    {
      "cell_type": "code",
      "source": [
        "(2,)"
      ],
      "metadata": {
        "colab": {
          "base_uri": "https://localhost:8080/"
        },
        "id": "1rNBZHW1XLhH",
        "outputId": "ecff3be8-33e5-4eeb-c9a5-d6347cf70a22"
      },
      "execution_count": null,
      "outputs": [
        {
          "output_type": "execute_result",
          "data": {
            "text/plain": [
              "(2,)"
            ]
          },
          "metadata": {},
          "execution_count": 12
        }
      ]
    },
    {
      "cell_type": "code",
      "source": [
        "a = [1, 2, 3]\n",
        "a1, a2, a3 = a ; print(a1, a2, a3)\n",
        "\n",
        "b = (4, 5, 6) # タプル\n",
        "b1, b2, b3 = b ; print(b1, b2, b3)"
      ],
      "metadata": {
        "colab": {
          "base_uri": "https://localhost:8080/"
        },
        "id": "BNFeh_17Xtxg",
        "outputId": "6bd66e4e-d905-4de2-a3c3-095089ada287"
      },
      "execution_count": null,
      "outputs": [
        {
          "output_type": "stream",
          "name": "stdout",
          "text": [
            "1 2 3\n",
            "4 5 6\n"
          ]
        }
      ]
    },
    {
      "cell_type": "code",
      "source": [
        "a = {\"Artificial\":1, \"Intelligence\":2} # 辞書の作成\n",
        "print(a[\"Artificial\"]) # \"Artificial\"のキーを持つ値を取得\n",
        "\n",
        "a[\"Intelligence\"] = 7\n",
        "print(a)\n",
        "\n",
        "a[\"ML\"] = 3 ; print(a)"
      ],
      "metadata": {
        "colab": {
          "base_uri": "https://localhost:8080/"
        },
        "id": "oE4KScK6X9do",
        "outputId": "9cb5a39a-1f6a-4298-a373-115b01926f3e"
      },
      "execution_count": null,
      "outputs": [
        {
          "output_type": "stream",
          "name": "stdout",
          "text": [
            "1\n",
            "{'Artificial': 1, 'Intelligence': 7}\n",
            "{'Artificial': 1, 'Intelligence': 7, 'ML': 3}\n"
          ]
        }
      ]
    },
    {
      "cell_type": "code",
      "source": [
        "a = [1, 1, 2, 3, 4, 4, 5, 5, 5]\n",
        "print(a)\n",
        "\n",
        "b = set(a)\n",
        "print(b)\n",
        "\n",
        "b.add(6) ; print(b)\n",
        "\n",
        "b.remove(3) ; print(b)"
      ],
      "metadata": {
        "id": "fxKjWY3qZW3s",
        "colab": {
          "base_uri": "https://localhost:8080/"
        },
        "outputId": "10015879-c9aa-4238-e8c7-0ef0e4597f19"
      },
      "execution_count": null,
      "outputs": [
        {
          "output_type": "stream",
          "name": "stdout",
          "text": [
            "[1, 1, 2, 3, 4, 4, 5, 5, 5]\n",
            "{1, 2, 3, 4, 5}\n",
            "{1, 2, 3, 4, 5, 6}\n",
            "{1, 2, 4, 5, 6}\n"
          ]
        }
      ]
    },
    {
      "cell_type": "code",
      "source": [
        "a = 3 ; b = 2 ; print ( a + b )"
      ],
      "metadata": {
        "id": "Lt-Xpro5aI1D",
        "colab": {
          "base_uri": "https://localhost:8080/"
        },
        "outputId": "5c447595-77de-4f16-b29b-7be3d99f3942"
      },
      "execution_count": null,
      "outputs": [
        {
          "output_type": "stream",
          "name": "stdout",
          "text": [
            "5\n"
          ]
        }
      ]
    },
    {
      "cell_type": "code",
      "source": [
        "a = 13\n",
        "if a < 12:\n",
        "  print(\"Good morning!\")\n",
        "elif a < 17:\n",
        "  print(\"Good afternoon!\")\n",
        "elif a < 21:\n",
        "  print(\"Good evening!\")\n",
        "else:\n",
        "  print(\"Good night!\")"
      ],
      "metadata": {
        "colab": {
          "base_uri": "https://localhost:8080/"
        },
        "id": "KpydOfSxbUH6",
        "outputId": "23805e7b-b887-4d44-fbf2-91716008b9e3"
      },
      "execution_count": null,
      "outputs": [
        {
          "output_type": "stream",
          "name": "stdout",
          "text": [
            "Good afternoon!\n"
          ]
        }
      ]
    },
    {
      "cell_type": "code",
      "source": [
        "for a in [3, 5, 9, 17]:\n",
        "  print(a)\n",
        "\n",
        "for a in range(5):\n",
        "  print(a)"
      ],
      "metadata": {
        "colab": {
          "base_uri": "https://localhost:8080/"
        },
        "id": "gLECfDERb_pS",
        "outputId": "9aec8aa8-ce8f-4dbe-89ef-bfa6319362e9"
      },
      "execution_count": null,
      "outputs": [
        {
          "output_type": "stream",
          "name": "stdout",
          "text": [
            "3\n",
            "5\n",
            "9\n",
            "17\n",
            "0\n",
            "1\n",
            "2\n",
            "3\n",
            "4\n"
          ]
        }
      ]
    },
    {
      "cell_type": "code",
      "source": [
        "a = 0\n",
        "while a < 3:\n",
        "  print(a)\n",
        "  a += 1"
      ],
      "metadata": {
        "colab": {
          "base_uri": "https://localhost:8080/"
        },
        "id": "_6jOGeuZcfl9",
        "outputId": "e5157e57-986b-48d7-906d-41a10f8c65f5"
      },
      "execution_count": null,
      "outputs": [
        {
          "output_type": "stream",
          "name": "stdout",
          "text": [
            "0\n",
            "1\n",
            "2\n"
          ]
        }
      ]
    },
    {
      "cell_type": "code",
      "source": [
        "a = [1, 2, 3, 4, 5, 6, 7]\n",
        "b = [c*2+1 for c in a]\n",
        "print(b)"
      ],
      "metadata": {
        "colab": {
          "base_uri": "https://localhost:8080/"
        },
        "id": "JVoZWKBoc9k6",
        "outputId": "1cc78bfe-6c94-436b-a40d-d958d8fc1231"
      },
      "execution_count": null,
      "outputs": [
        {
          "output_type": "stream",
          "name": "stdout",
          "text": [
            "[3, 5, 7, 9, 11, 13, 15]\n"
          ]
        }
      ]
    },
    {
      "cell_type": "code",
      "source": [
        "def add(a, b): # 関数の定義\n",
        "  c = a + b\n",
        "  return c\n",
        "\n",
        "print(add(2, 3)) # 関数の実行"
      ],
      "metadata": {
        "colab": {
          "base_uri": "https://localhost:8080/"
        },
        "id": "k-hq7mdRdSVo",
        "outputId": "778d2d1b-02ca-4093-b6e7-3ee4e6a18124"
      },
      "execution_count": null,
      "outputs": [
        {
          "output_type": "stream",
          "name": "stdout",
          "text": [
            "5\n"
          ]
        }
      ]
    },
    {
      "cell_type": "code",
      "source": [
        "def add(a, b=4):\n",
        "  c = a + b\n",
        "  return c\n",
        "\n",
        "print(add(3))"
      ],
      "metadata": {
        "colab": {
          "base_uri": "https://localhost:8080/"
        },
        "id": "T8ZqwAWadv9z",
        "outputId": "1c8e0cef-aed6-4d54-c433-4287249593b8"
      },
      "execution_count": null,
      "outputs": [
        {
          "output_type": "stream",
          "name": "stdout",
          "text": [
            "7\n"
          ]
        }
      ]
    },
    {
      "cell_type": "code",
      "source": [
        "def add(a, b, c):\n",
        "  d = a + b + c\n",
        "  print(d)\n",
        "\n",
        "e = (2, 4, 6)\n",
        "add(*e)"
      ],
      "metadata": {
        "colab": {
          "base_uri": "https://localhost:8080/"
        },
        "id": "sOGkQuJHeUOp",
        "outputId": "88caeb28-e16f-443d-ee54-b74940538859"
      },
      "execution_count": null,
      "outputs": [
        {
          "output_type": "stream",
          "name": "stdout",
          "text": [
            "12\n"
          ]
        }
      ]
    },
    {
      "cell_type": "code",
      "source": [
        "a = 21\n",
        "\n",
        "def showNumbers():\n",
        "  b = 43\n",
        "  print(a, b)\n",
        "\n",
        "showNumbers()"
      ],
      "metadata": {
        "colab": {
          "base_uri": "https://localhost:8080/"
        },
        "id": "cOt_AS-rgZdw",
        "outputId": "a808f2a1-c4e0-41d7-b2d7-a8205927dfa4"
      },
      "execution_count": null,
      "outputs": [
        {
          "output_type": "stream",
          "name": "stdout",
          "text": [
            "21 43\n"
          ]
        }
      ]
    },
    {
      "cell_type": "code",
      "source": [
        "a = 21\n",
        "\n",
        "def setLocalNumber():\n",
        "  a = 43\n",
        "  print(\"Local:\", a)\n",
        "\n",
        "setLocalNumber()\n",
        "print(\"Global:\", a)"
      ],
      "metadata": {
        "colab": {
          "base_uri": "https://localhost:8080/"
        },
        "id": "Z0nuVM3zgm5W",
        "outputId": "370ecb3d-3bad-47a3-c276-e4102cd30084"
      },
      "execution_count": null,
      "outputs": [
        {
          "output_type": "stream",
          "name": "stdout",
          "text": [
            "Local: 43\n",
            "Global: 21\n"
          ]
        }
      ]
    },
    {
      "cell_type": "code",
      "source": [
        "a = 21\n",
        "\n",
        "def setGlobalNumber():\n",
        "  global a\n",
        "  a = 43\n",
        "  print(\"Global:\", a)\n",
        "\n",
        "setGlobalNumber()\n",
        "print(\"Global:\", a)"
      ],
      "metadata": {
        "colab": {
          "base_uri": "https://localhost:8080/"
        },
        "id": "kZ4k7lUGhIVO",
        "outputId": "6f08dca5-64eb-4743-f889-9f44285dffc1"
      },
      "execution_count": null,
      "outputs": [
        {
          "output_type": "stream",
          "name": "stdout",
          "text": [
            "Global: 43\n",
            "Global: 43\n"
          ]
        }
      ]
    },
    {
      "cell_type": "code",
      "source": [
        "class Calc: # Clacがクラス名\n",
        "  def __init__(self, a):\n",
        "    self.a = a\n",
        "\n",
        "  def add(self, b):\n",
        "    print(self.a + b)\n",
        "\n",
        "  def multiply(self, b):\n",
        "    print(self.a * b)"
      ],
      "metadata": {
        "colab": {
          "base_uri": "https://localhost:8080/"
        },
        "id": "gOaINJRDapPh",
        "outputId": "1e9f62a7-39ca-49ea-a0e1-605a09fa53bc"
      },
      "execution_count": null,
      "outputs": [
        {
          "output_type": "stream",
          "name": "stdout",
          "text": [
            "9\n",
            "16\n"
          ]
        }
      ]
    },
    {
      "cell_type": "code",
      "source": [
        "calc = Calc(1)\n",
        "calc.add(5)\n",
        "calc.multiply(4)"
      ],
      "metadata": {
        "colab": {
          "base_uri": "https://localhost:8080/"
        },
        "id": "DLiEDTrEbflD",
        "outputId": "012fe5bf-bc1f-4df5-836e-2b9b66ff7078"
      },
      "execution_count": null,
      "outputs": [
        {
          "output_type": "stream",
          "name": "stdout",
          "text": [
            "6\n",
            "4\n"
          ]
        }
      ]
    },
    {
      "cell_type": "code",
      "source": [
        "class ClacNext(Calc):  # Calcを継承\n",
        "  def subtract(self, b):\n",
        "    print(self.a - b)\n",
        "\n",
        "  def divide(self, b):\n",
        "    print(self.a / b)\n",
        "\n",
        "\n",
        "calc_next = ClacNext(4) # インスタンスcalc_nextを生成\n",
        "calc_next.add(5) # 継承元のメソッド\n",
        "calc_next.multiply(5) # 継承元のメソッド\n",
        "calc_next.subtract(5)\n",
        "calc_next.divide(5)"
      ],
      "metadata": {
        "colab": {
          "base_uri": "https://localhost:8080/"
        },
        "id": "hTq2gqb3b87C",
        "outputId": "e4bcad48-c3f6-4639-8a35-a4e0026f9ca6"
      },
      "execution_count": null,
      "outputs": [
        {
          "output_type": "stream",
          "name": "stdout",
          "text": [
            "9\n",
            "20\n",
            "-1\n",
            "0.8\n"
          ]
        }
      ]
    },
    {
      "cell_type": "code",
      "source": [
        "class Calc: # Clacクラス\n",
        "  def __init__(self, a): # __init__()メソッド\n",
        "    self.a = a\n",
        "\n",
        "  def __call__(self, c): # __call__()メソッド\n",
        "    print(self.a * c + c)\n",
        "\n",
        "  def add(self, b): # add()メソッド\n",
        "    print(self.a + b)\n",
        "\n",
        "  def multiply(self, b): #m multiply()メソッド\n",
        "    print(self.a * b )\n",
        "\n",
        "cl = Calc(3) # インスタンスclを作成\n",
        "\n",
        "# インスタンス名clを使って__call__()メソッドを呼ぶ\n",
        "cl(5)"
      ],
      "metadata": {
        "colab": {
          "base_uri": "https://localhost:8080/"
        },
        "id": "7SeiUXX1fLVM",
        "outputId": "d660ce4a-d57d-4bb8-95ea-c86895784ac4"
      },
      "execution_count": null,
      "outputs": [
        {
          "output_type": "stream",
          "name": "stdout",
          "text": [
            "20\n"
          ]
        }
      ]
    },
    {
      "cell_type": "code",
      "source": [
        "greetings = \"Good morning!\\nGood afternoon!\\nGood evening!\\nGood night!\"\n",
        "\n",
        "with open(\"greetings.txt\", \"w\") as f:\n",
        "  f.write(greetings)"
      ],
      "metadata": {
        "id": "xjBNpY5tfLQL"
      },
      "execution_count": null,
      "outputs": []
    },
    {
      "cell_type": "code",
      "source": [
        "with open(\"greetings.txt\", \"r\") as f:\n",
        "  print(f.read())"
      ],
      "metadata": {
        "colab": {
          "base_uri": "https://localhost:8080/"
        },
        "id": "Al4I9W2wg2xx",
        "outputId": "afbfeb88-e79b-4ad4-9a3c-68aceed89011"
      },
      "execution_count": null,
      "outputs": [
        {
          "output_type": "stream",
          "name": "stdout",
          "text": [
            "Good morning!\n",
            "Good afternoon!\n",
            "Good evening!\n",
            "Good night!\n"
          ]
        }
      ]
    },
    {
      "cell_type": "code",
      "source": [
        "from google.colab import files\n",
        "\n",
        "uploaded = files.upload()\n",
        "for key in uploaded.keys():\n",
        "  print(uploaded[key].decode(\"utf-8\"))"
      ],
      "metadata": {
        "colab": {
          "base_uri": "https://localhost:8080/",
          "height": 95
        },
        "id": "g2yFVLhag9zv",
        "outputId": "3411222e-f64b-4711-93db-e94287d8f5e0"
      },
      "execution_count": null,
      "outputs": [
        {
          "output_type": "display_data",
          "data": {
            "text/plain": [
              "<IPython.core.display.HTML object>"
            ],
            "text/html": [
              "\n",
              "     <input type=\"file\" id=\"files-feec467b-5c9c-4636-91ea-792f9c8646a7\" name=\"files[]\" multiple disabled\n",
              "        style=\"border:none\" />\n",
              "     <output id=\"result-feec467b-5c9c-4636-91ea-792f9c8646a7\">\n",
              "      Upload widget is only available when the cell has been executed in the\n",
              "      current browser session. Please rerun this cell to enable.\n",
              "      </output>\n",
              "      <script>// Copyright 2017 Google LLC\n",
              "//\n",
              "// Licensed under the Apache License, Version 2.0 (the \"License\");\n",
              "// you may not use this file except in compliance with the License.\n",
              "// You may obtain a copy of the License at\n",
              "//\n",
              "//      http://www.apache.org/licenses/LICENSE-2.0\n",
              "//\n",
              "// Unless required by applicable law or agreed to in writing, software\n",
              "// distributed under the License is distributed on an \"AS IS\" BASIS,\n",
              "// WITHOUT WARRANTIES OR CONDITIONS OF ANY KIND, either express or implied.\n",
              "// See the License for the specific language governing permissions and\n",
              "// limitations under the License.\n",
              "\n",
              "/**\n",
              " * @fileoverview Helpers for google.colab Python module.\n",
              " */\n",
              "(function(scope) {\n",
              "function span(text, styleAttributes = {}) {\n",
              "  const element = document.createElement('span');\n",
              "  element.textContent = text;\n",
              "  for (const key of Object.keys(styleAttributes)) {\n",
              "    element.style[key] = styleAttributes[key];\n",
              "  }\n",
              "  return element;\n",
              "}\n",
              "\n",
              "// Max number of bytes which will be uploaded at a time.\n",
              "const MAX_PAYLOAD_SIZE = 100 * 1024;\n",
              "\n",
              "function _uploadFiles(inputId, outputId) {\n",
              "  const steps = uploadFilesStep(inputId, outputId);\n",
              "  const outputElement = document.getElementById(outputId);\n",
              "  // Cache steps on the outputElement to make it available for the next call\n",
              "  // to uploadFilesContinue from Python.\n",
              "  outputElement.steps = steps;\n",
              "\n",
              "  return _uploadFilesContinue(outputId);\n",
              "}\n",
              "\n",
              "// This is roughly an async generator (not supported in the browser yet),\n",
              "// where there are multiple asynchronous steps and the Python side is going\n",
              "// to poll for completion of each step.\n",
              "// This uses a Promise to block the python side on completion of each step,\n",
              "// then passes the result of the previous step as the input to the next step.\n",
              "function _uploadFilesContinue(outputId) {\n",
              "  const outputElement = document.getElementById(outputId);\n",
              "  const steps = outputElement.steps;\n",
              "\n",
              "  const next = steps.next(outputElement.lastPromiseValue);\n",
              "  return Promise.resolve(next.value.promise).then((value) => {\n",
              "    // Cache the last promise value to make it available to the next\n",
              "    // step of the generator.\n",
              "    outputElement.lastPromiseValue = value;\n",
              "    return next.value.response;\n",
              "  });\n",
              "}\n",
              "\n",
              "/**\n",
              " * Generator function which is called between each async step of the upload\n",
              " * process.\n",
              " * @param {string} inputId Element ID of the input file picker element.\n",
              " * @param {string} outputId Element ID of the output display.\n",
              " * @return {!Iterable<!Object>} Iterable of next steps.\n",
              " */\n",
              "function* uploadFilesStep(inputId, outputId) {\n",
              "  const inputElement = document.getElementById(inputId);\n",
              "  inputElement.disabled = false;\n",
              "\n",
              "  const outputElement = document.getElementById(outputId);\n",
              "  outputElement.innerHTML = '';\n",
              "\n",
              "  const pickedPromise = new Promise((resolve) => {\n",
              "    inputElement.addEventListener('change', (e) => {\n",
              "      resolve(e.target.files);\n",
              "    });\n",
              "  });\n",
              "\n",
              "  const cancel = document.createElement('button');\n",
              "  inputElement.parentElement.appendChild(cancel);\n",
              "  cancel.textContent = 'Cancel upload';\n",
              "  const cancelPromise = new Promise((resolve) => {\n",
              "    cancel.onclick = () => {\n",
              "      resolve(null);\n",
              "    };\n",
              "  });\n",
              "\n",
              "  // Wait for the user to pick the files.\n",
              "  const files = yield {\n",
              "    promise: Promise.race([pickedPromise, cancelPromise]),\n",
              "    response: {\n",
              "      action: 'starting',\n",
              "    }\n",
              "  };\n",
              "\n",
              "  cancel.remove();\n",
              "\n",
              "  // Disable the input element since further picks are not allowed.\n",
              "  inputElement.disabled = true;\n",
              "\n",
              "  if (!files) {\n",
              "    return {\n",
              "      response: {\n",
              "        action: 'complete',\n",
              "      }\n",
              "    };\n",
              "  }\n",
              "\n",
              "  for (const file of files) {\n",
              "    const li = document.createElement('li');\n",
              "    li.append(span(file.name, {fontWeight: 'bold'}));\n",
              "    li.append(span(\n",
              "        `(${file.type || 'n/a'}) - ${file.size} bytes, ` +\n",
              "        `last modified: ${\n",
              "            file.lastModifiedDate ? file.lastModifiedDate.toLocaleDateString() :\n",
              "                                    'n/a'} - `));\n",
              "    const percent = span('0% done');\n",
              "    li.appendChild(percent);\n",
              "\n",
              "    outputElement.appendChild(li);\n",
              "\n",
              "    const fileDataPromise = new Promise((resolve) => {\n",
              "      const reader = new FileReader();\n",
              "      reader.onload = (e) => {\n",
              "        resolve(e.target.result);\n",
              "      };\n",
              "      reader.readAsArrayBuffer(file);\n",
              "    });\n",
              "    // Wait for the data to be ready.\n",
              "    let fileData = yield {\n",
              "      promise: fileDataPromise,\n",
              "      response: {\n",
              "        action: 'continue',\n",
              "      }\n",
              "    };\n",
              "\n",
              "    // Use a chunked sending to avoid message size limits. See b/62115660.\n",
              "    let position = 0;\n",
              "    do {\n",
              "      const length = Math.min(fileData.byteLength - position, MAX_PAYLOAD_SIZE);\n",
              "      const chunk = new Uint8Array(fileData, position, length);\n",
              "      position += length;\n",
              "\n",
              "      const base64 = btoa(String.fromCharCode.apply(null, chunk));\n",
              "      yield {\n",
              "        response: {\n",
              "          action: 'append',\n",
              "          file: file.name,\n",
              "          data: base64,\n",
              "        },\n",
              "      };\n",
              "\n",
              "      let percentDone = fileData.byteLength === 0 ?\n",
              "          100 :\n",
              "          Math.round((position / fileData.byteLength) * 100);\n",
              "      percent.textContent = `${percentDone}% done`;\n",
              "\n",
              "    } while (position < fileData.byteLength);\n",
              "  }\n",
              "\n",
              "  // All done.\n",
              "  yield {\n",
              "    response: {\n",
              "      action: 'complete',\n",
              "    }\n",
              "  };\n",
              "}\n",
              "\n",
              "scope.google = scope.google || {};\n",
              "scope.google.colab = scope.google.colab || {};\n",
              "scope.google.colab._files = {\n",
              "  _uploadFiles,\n",
              "  _uploadFilesContinue,\n",
              "};\n",
              "})(self);\n",
              "</script> "
            ]
          },
          "metadata": {}
        },
        {
          "output_type": "stream",
          "name": "stdout",
          "text": [
            "Saving test.txt to test.txt\n",
            "test\n"
          ]
        }
      ]
    },
    {
      "cell_type": "code",
      "source": [
        "files.download(\"greetings.txt\")"
      ],
      "metadata": {
        "colab": {
          "base_uri": "https://localhost:8080/",
          "height": 17
        },
        "id": "tjlhlUUTiX6P",
        "outputId": "95542083-42ae-4c88-abb1-18ace26220b5"
      },
      "execution_count": null,
      "outputs": [
        {
          "output_type": "display_data",
          "data": {
            "text/plain": [
              "<IPython.core.display.Javascript object>"
            ],
            "application/javascript": [
              "\n",
              "    async function download(id, filename, size) {\n",
              "      if (!google.colab.kernel.accessAllowed) {\n",
              "        return;\n",
              "      }\n",
              "      const div = document.createElement('div');\n",
              "      const label = document.createElement('label');\n",
              "      label.textContent = `Downloading \"${filename}\": `;\n",
              "      div.appendChild(label);\n",
              "      const progress = document.createElement('progress');\n",
              "      progress.max = size;\n",
              "      div.appendChild(progress);\n",
              "      document.body.appendChild(div);\n",
              "\n",
              "      const buffers = [];\n",
              "      let downloaded = 0;\n",
              "\n",
              "      const channel = await google.colab.kernel.comms.open(id);\n",
              "      // Send a message to notify the kernel that we're ready.\n",
              "      channel.send({})\n",
              "\n",
              "      for await (const message of channel.messages) {\n",
              "        // Send a message to notify the kernel that we're ready.\n",
              "        channel.send({})\n",
              "        if (message.buffers) {\n",
              "          for (const buffer of message.buffers) {\n",
              "            buffers.push(buffer);\n",
              "            downloaded += buffer.byteLength;\n",
              "            progress.value = downloaded;\n",
              "          }\n",
              "        }\n",
              "      }\n",
              "      const blob = new Blob(buffers, {type: 'application/binary'});\n",
              "      const a = document.createElement('a');\n",
              "      a.href = window.URL.createObjectURL(blob);\n",
              "      a.download = filename;\n",
              "      div.appendChild(a);\n",
              "      a.click();\n",
              "      div.remove();\n",
              "    }\n",
              "  "
            ]
          },
          "metadata": {}
        },
        {
          "output_type": "display_data",
          "data": {
            "text/plain": [
              "<IPython.core.display.Javascript object>"
            ],
            "application/javascript": [
              "download(\"download_d451c708-c1db-409f-8c1a-905b05118c1f\", \"greetings.txt\", 55)"
            ]
          },
          "metadata": {}
        }
      ]
    },
    {
      "cell_type": "code",
      "source": [
        "from google.colab import drive\n",
        "\n",
        "drive.mount('/content/drive/')"
      ],
      "metadata": {
        "colab": {
          "base_uri": "https://localhost:8080/"
        },
        "id": "_Gsci1IQkZSY",
        "outputId": "6e4da30d-82b9-4209-be25-af8d55b1cda8"
      },
      "execution_count": null,
      "outputs": [
        {
          "output_type": "stream",
          "name": "stdout",
          "text": [
            "Mounted at /content/drive/\n"
          ]
        }
      ]
    },
    {
      "cell_type": "code",
      "source": [
        "import os\n",
        "\n",
        "path = '/content/drive/My Drive/greetings/'\n",
        "\n",
        "if not os.path.exists(path):\n",
        "  os.makedirs(path)\n",
        "\n",
        "with open('/content/drive/My Drive/greetings/hello.txt', 'w') as f:\n",
        "  f.write(\"Hello!\")"
      ],
      "metadata": {
        "id": "zRMZAaw-k_HX"
      },
      "execution_count": null,
      "outputs": []
    },
    {
      "cell_type": "code",
      "source": [
        "import numpy as np\n",
        "\n",
        "# PythonのリストからNumPyの配列を作る\n",
        "a = np.array(([0, 1, 2, 3, 4, 5])) # aが配列\n",
        "print(a)"
      ],
      "metadata": {
        "colab": {
          "base_uri": "https://localhost:8080/",
          "height": 0
        },
        "id": "vtIxeHC-1y5X",
        "outputId": "b3d48d87-754b-401a-d424-fc36136c7e83"
      },
      "execution_count": 1,
      "outputs": [
        {
          "output_type": "stream",
          "name": "stdout",
          "text": [
            "[0 1 2 3 4 5]\n"
          ]
        }
      ]
    },
    {
      "cell_type": "code",
      "source": [
        "import numpy as np\n",
        "\n",
        "b = np.array([[0, 1, 2], [3, 4, 5]]) # 2重のリストからNumPyの2次元配列を作る\n",
        "print(b)"
      ],
      "metadata": {
        "colab": {
          "base_uri": "https://localhost:8080/",
          "height": 0
        },
        "id": "nyJPOq0e2AR5",
        "outputId": "a8603057-cacf-4b44-a7eb-4f6e345c0ce8"
      },
      "execution_count": 2,
      "outputs": [
        {
          "output_type": "stream",
          "name": "stdout",
          "text": [
            "[[0 1 2]\n",
            " [3 4 5]]\n"
          ]
        }
      ]
    },
    {
      "cell_type": "code",
      "source": [
        "import numpy as np\n",
        "\n",
        "c = np.array([[[0, 1, 2], [1, 2, 3]], [[2, 3, 4], [3, 4, 5]]]) # 3重のリストからNumPyの3次元配列を作る\n",
        "print(c)"
      ],
      "metadata": {
        "colab": {
          "base_uri": "https://localhost:8080/"
        },
        "id": "KcV5snsp2Ycd",
        "outputId": "8b907d5b-5835-4050-9e3a-d158b04ced45"
      },
      "execution_count": 3,
      "outputs": [
        {
          "output_type": "stream",
          "name": "stdout",
          "text": [
            "[[[0 1 2]\n",
            "  [1 2 3]]\n",
            "\n",
            " [[2 3 4]\n",
            "  [3 4 5]]]\n"
          ]
        }
      ]
    },
    {
      "cell_type": "code",
      "source": [
        "import numpy as np\n",
        "\n",
        "a = np.array([[0, 1, 2], [3, 4, 5]]) # 2次元配列\n",
        "\n",
        "print(a)\n",
        "print()\n",
        "\n",
        "print(a + 2)\n",
        "print()\n",
        "\n",
        "print(a * 2)"
      ],
      "metadata": {
        "colab": {
          "base_uri": "https://localhost:8080/"
        },
        "id": "tRMsyM8q2zzW",
        "outputId": "e06884dc-39a5-470a-b519-e27ddb28230f"
      },
      "execution_count": 6,
      "outputs": [
        {
          "output_type": "stream",
          "name": "stdout",
          "text": [
            "[[0 1 2]\n",
            " [3 4 5]]\n",
            "\n",
            "[[2 3 4]\n",
            " [5 6 7]]\n",
            "\n",
            "[[ 0  2  4]\n",
            " [ 6  8 10]]\n"
          ]
        }
      ]
    }
  ]
}